{
 "cells": [
  {
   "cell_type": "markdown",
   "id": "29588251",
   "metadata": {},
   "source": [
    "# Atualizando dados em uma planilha no Excel "
   ]
  },
  {
   "cell_type": "markdown",
   "id": "798eae62",
   "metadata": {},
   "source": [
    "##### # Importando módulos"
   ]
  },
  {
   "cell_type": "code",
   "execution_count": 2,
   "id": "704aab6d",
   "metadata": {},
   "outputs": [],
   "source": [
    "import openpyxl\n",
    "import pandas as pd"
   ]
  },
  {
   "cell_type": "markdown",
   "id": "df6cc8e3",
   "metadata": {},
   "source": [
    "##### # Conectando ao Excel"
   ]
  },
  {
   "cell_type": "code",
   "execution_count": 4,
   "id": "e2e9609c",
   "metadata": {},
   "outputs": [],
   "source": [
    "planilha = openpyxl.load_workbook('dados/Clientes.xlsx')\n",
    "dados = planilha['Planilha1']"
   ]
  },
  {
   "cell_type": "markdown",
   "id": "fed67906",
   "metadata": {},
   "source": [
    "#### # Vizualizando a planilha"
   ]
  },
  {
   "cell_type": "code",
   "execution_count": 3,
   "id": "5d8936f9",
   "metadata": {},
   "outputs": [
    {
     "data": {
      "text/html": [
       "<div>\n",
       "<style scoped>\n",
       "    .dataframe tbody tr th:only-of-type {\n",
       "        vertical-align: middle;\n",
       "    }\n",
       "\n",
       "    .dataframe tbody tr th {\n",
       "        vertical-align: top;\n",
       "    }\n",
       "\n",
       "    .dataframe thead th {\n",
       "        text-align: right;\n",
       "    }\n",
       "</style>\n",
       "<table border=\"1\" class=\"dataframe\">\n",
       "  <thead>\n",
       "    <tr style=\"text-align: right;\">\n",
       "      <th></th>\n",
       "      <th>Clientes</th>\n",
       "      <th>Obra</th>\n",
       "      <th>UF</th>\n",
       "      <th>Status Cobrança</th>\n",
       "      <th>Valor potencial</th>\n",
       "    </tr>\n",
       "  </thead>\n",
       "  <tbody>\n",
       "    <tr>\n",
       "      <th>0</th>\n",
       "      <td>Fernando Augusto</td>\n",
       "      <td>ABC</td>\n",
       "      <td>MG</td>\n",
       "      <td>Cobrança Terceirizada</td>\n",
       "      <td>10000</td>\n",
       "    </tr>\n",
       "  </tbody>\n",
       "</table>\n",
       "</div>"
      ],
      "text/plain": [
       "           Clientes Obra   UF        Status Cobrança  Valor potencial \n",
       "0  Fernando Augusto  ABC  MG   Cobrança Terceirizada             10000"
      ]
     },
     "execution_count": 3,
     "metadata": {},
     "output_type": "execute_result"
    }
   ],
   "source": [
    "planilha_excel = pd.read_excel('dados/Clientes.xlsx')\n",
    "planilha_excel.head()"
   ]
  },
  {
   "cell_type": "markdown",
   "id": "906de327",
   "metadata": {},
   "source": [
    "#### # Definindo uma função para adicionar dados à planilha"
   ]
  },
  {
   "cell_type": "code",
   "execution_count": 6,
   "id": "858afd23",
   "metadata": {},
   "outputs": [],
   "source": [
    "def adicionar_dado(clientes, obra, uf, status, valor):\n",
    "    linha = 1\n",
    "    while dados.cell(row=linha, column=1).value is not None:\n",
    "        linha += 1\n",
    "    dados.cell(row=linha, column=1).value = clientes\n",
    "    dados.cell(row=linha, column=2).value = obra\n",
    "    dados.cell(row=linha, column=3).value = uf\n",
    "    dados.cell(row=linha, column=4).value = status\n",
    "    dados.cell(row=linha, column=5).value = valor\n",
    "    return dados"
   ]
  },
  {
   "cell_type": "markdown",
   "id": "d27c73eb",
   "metadata": {},
   "source": [
    "#### # Adicionando dados à planilha "
   ]
  },
  {
   "cell_type": "code",
   "execution_count": 7,
   "id": "9e635333",
   "metadata": {},
   "outputs": [
    {
     "data": {
      "text/plain": [
       "<Worksheet \"Planilha1\">"
      ]
     },
     "execution_count": 7,
     "metadata": {},
     "output_type": "execute_result"
    }
   ],
   "source": [
    "adicionar_dado('Couto', 'AXY', 'SP', 'Cobrança Terceirizada', 30000)"
   ]
  },
  {
   "cell_type": "markdown",
   "id": "e4910d70",
   "metadata": {},
   "source": [
    "#### # Salvando e fechando planilha alterada"
   ]
  },
  {
   "cell_type": "code",
   "execution_count": 8,
   "id": "e4f41192",
   "metadata": {},
   "outputs": [],
   "source": [
    "planilha.save('dados/Clientes.xlsx')"
   ]
  },
  {
   "cell_type": "markdown",
   "id": "cec66e74",
   "metadata": {},
   "source": [
    "#### # Vendo alteração feita "
   ]
  },
  {
   "cell_type": "code",
   "execution_count": 9,
   "id": "25c76ea2",
   "metadata": {},
   "outputs": [
    {
     "data": {
      "text/html": [
       "<div>\n",
       "<style scoped>\n",
       "    .dataframe tbody tr th:only-of-type {\n",
       "        vertical-align: middle;\n",
       "    }\n",
       "\n",
       "    .dataframe tbody tr th {\n",
       "        vertical-align: top;\n",
       "    }\n",
       "\n",
       "    .dataframe thead th {\n",
       "        text-align: right;\n",
       "    }\n",
       "</style>\n",
       "<table border=\"1\" class=\"dataframe\">\n",
       "  <thead>\n",
       "    <tr style=\"text-align: right;\">\n",
       "      <th></th>\n",
       "      <th>Clientes</th>\n",
       "      <th>Obra</th>\n",
       "      <th>UF</th>\n",
       "      <th>Status Cobrança</th>\n",
       "      <th>Valor potencial</th>\n",
       "    </tr>\n",
       "  </thead>\n",
       "  <tbody>\n",
       "    <tr>\n",
       "      <th>0</th>\n",
       "      <td>Fernando Augusto</td>\n",
       "      <td>ABC</td>\n",
       "      <td>MG</td>\n",
       "      <td>Cobrança Terceirizada</td>\n",
       "      <td>10000</td>\n",
       "    </tr>\n",
       "    <tr>\n",
       "      <th>1</th>\n",
       "      <td>Couto</td>\n",
       "      <td>AXY</td>\n",
       "      <td>SP</td>\n",
       "      <td>Cobrança Terceirizada</td>\n",
       "      <td>30000</td>\n",
       "    </tr>\n",
       "  </tbody>\n",
       "</table>\n",
       "</div>"
      ],
      "text/plain": [
       "           Clientes Obra   UF        Status Cobrança  Valor potencial \n",
       "0  Fernando Augusto  ABC  MG   Cobrança Terceirizada             10000\n",
       "1             Couto  AXY   SP  Cobrança Terceirizada             30000"
      ]
     },
     "execution_count": 9,
     "metadata": {},
     "output_type": "execute_result"
    }
   ],
   "source": [
    "planilha_excel = pd.read_excel('dados/Clientes.xlsx')\n",
    "planilha_excel.head()"
   ]
  }
 ],
 "metadata": {
  "kernelspec": {
   "display_name": "Python 3 (ipykernel)",
   "language": "python",
   "name": "python3"
  },
  "language_info": {
   "codemirror_mode": {
    "name": "ipython",
    "version": 3
   },
   "file_extension": ".py",
   "mimetype": "text/x-python",
   "name": "python",
   "nbconvert_exporter": "python",
   "pygments_lexer": "ipython3",
   "version": "3.9.13"
  }
 },
 "nbformat": 4,
 "nbformat_minor": 5
}
